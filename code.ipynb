{
 "cells": [
  {
   "cell_type": "code",
   "execution_count": 5,
   "metadata": {},
   "outputs": [],
   "source": [
    "class Library:\n",
    "    def __init__(self, N, T, M, books):\n",
    "        self.N = N\n",
    "        self.T = T\n",
    "        self.M = M\n",
    "        self.books = books\n",
    "    \n",
    "    def __str__(self):\n",
    "        return f\"{self.N} {self.T} {self.M} {self.books}\"\n",
    "    \n",
    "class Singleton:\n",
    "    def __init__(self, B, L, D, libraries):\n",
    "        self.B = B\n",
    "        self.L = L\n",
    "        self.D = D\n",
    "        self.libraries = libraries\n",
    "\n",
    "    def __str__(self):\n",
    "        return f\"{self.B} {self.L} {self.D} {self.libraries}\"\n"
   ]
  },
  {
   "cell_type": "code",
   "execution_count": 6,
   "metadata": {},
   "outputs": [],
   "source": [
    "def read_file(filename):\n",
    "\n",
    "    f = open(filename, \"r\")\n",
    "\n",
    "    line = f.readline()\n",
    "\n",
    "    values = [int(x) for x in line.split()]\n",
    "\n",
    "    B = values[0]\n",
    "    L = values[1]\n",
    "    D = values[2]\n",
    "\n",
    "    line = f.readline()\n",
    "    scores = [int(x) for x in line.split()]\n",
    "\n",
    "    libs = []\n",
    "    while True:\n",
    "        line = f.readline()    \n",
    "        values = [int(x) for x in line.split()]\n",
    "        if len(values) == 0:\n",
    "            break\n",
    "        line = f.readline()\n",
    "        libs.append(Library(values[0], values[1], values[2], [int(x) for x in line.split()]))\n",
    "\n",
    "    f.close()\n",
    "\n",
    "    return B, L, D, scores, libs"
   ]
  },
  {
   "cell_type": "code",
   "execution_count": 7,
   "metadata": {},
   "outputs": [
    {
     "name": "stdout",
     "output_type": "stream",
     "text": [
      "6 2 7 [<__main__.Library object at 0x1126010a0>, <__main__.Library object at 0x1120fc920>]\n"
     ]
    }
   ],
   "source": [
    "B, L, D, scores, libs = read_file(\"data/a_example.txt\")\n",
    "#B, L, D, scores, libs = read_file(\"data/b_read_on.txt\", \"r\")\n",
    "#B, L, D, scores, libs = read_file(\"data/c_incunabula.txt\", \"r\")\n",
    "#B, L, D, scores, libs = read_file(\"data/d_tough_choices.txt\", \"r\")\n",
    "#B, L, D, scores, libs = read_file(\"data/e_so_many_books.txt\", \"r\")\n",
    "#B, L, D, scores, libs = read_file(\"data/f_libraries_of_the_world.txt\", \"r\")\n",
    "\n",
    "att = Singleton(B, L, D, libs)\n",
    "\n",
    "print(att)"
   ]
  },
  {
   "cell_type": "code",
   "execution_count": null,
   "metadata": {},
   "outputs": [],
   "source": []
  }
 ],
 "metadata": {
  "kernelspec": {
   "display_name": "Python 3",
   "language": "python",
   "name": "python3"
  },
  "language_info": {
   "codemirror_mode": {
    "name": "ipython",
    "version": 3
   },
   "file_extension": ".py",
   "mimetype": "text/x-python",
   "name": "python",
   "nbconvert_exporter": "python",
   "pygments_lexer": "ipython3",
   "version": "3.12.2"
  }
 },
 "nbformat": 4,
 "nbformat_minor": 2
}
